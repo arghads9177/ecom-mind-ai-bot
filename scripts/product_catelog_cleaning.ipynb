{
 "cells": [
  {
   "cell_type": "code",
   "execution_count": 1,
   "metadata": {},
   "outputs": [],
   "source": [
    "# Import libraries\n",
    "import pandas as pd\n",
    "import numpy as np"
   ]
  },
  {
   "cell_type": "code",
   "execution_count": 3,
   "metadata": {},
   "outputs": [],
   "source": [
    "# Load the product catalog CSV file\n",
    "file_path = \"../database/product_catalog.csv\" \n",
    "df = pd.read_csv(file_path)"
   ]
  },
  {
   "cell_type": "code",
   "execution_count": 4,
   "metadata": {},
   "outputs": [
    {
     "data": {
      "text/html": [
       "<div>\n",
       "<style scoped>\n",
       "    .dataframe tbody tr th:only-of-type {\n",
       "        vertical-align: middle;\n",
       "    }\n",
       "\n",
       "    .dataframe tbody tr th {\n",
       "        vertical-align: top;\n",
       "    }\n",
       "\n",
       "    .dataframe thead th {\n",
       "        text-align: right;\n",
       "    }\n",
       "</style>\n",
       "<table border=\"1\" class=\"dataframe\">\n",
       "  <thead>\n",
       "    <tr style=\"text-align: right;\">\n",
       "      <th></th>\n",
       "      <th>SKU</th>\n",
       "      <th>Product Name</th>\n",
       "      <th>Category</th>\n",
       "      <th>Brand</th>\n",
       "      <th>Price (USD)</th>\n",
       "      <th>Stock</th>\n",
       "    </tr>\n",
       "  </thead>\n",
       "  <tbody>\n",
       "    <tr>\n",
       "      <th>0</th>\n",
       "      <td>GRO-30685</td>\n",
       "      <td>Milk Powder</td>\n",
       "      <td>Grocery</td>\n",
       "      <td>Brand C</td>\n",
       "      <td>16.73</td>\n",
       "      <td>128</td>\n",
       "    </tr>\n",
       "    <tr>\n",
       "      <th>1</th>\n",
       "      <td>HOU-53340</td>\n",
       "      <td>Air Freshener</td>\n",
       "      <td>Household</td>\n",
       "      <td>Brand D</td>\n",
       "      <td>13.52</td>\n",
       "      <td>460</td>\n",
       "    </tr>\n",
       "    <tr>\n",
       "      <th>2</th>\n",
       "      <td>GRO-24767</td>\n",
       "      <td>Rice</td>\n",
       "      <td>Grocery</td>\n",
       "      <td>Brand B</td>\n",
       "      <td>19.87</td>\n",
       "      <td>81</td>\n",
       "    </tr>\n",
       "    <tr>\n",
       "      <th>3</th>\n",
       "      <td>GRO-83921</td>\n",
       "      <td>Sugar</td>\n",
       "      <td>Grocery</td>\n",
       "      <td>Brand B</td>\n",
       "      <td>7.37</td>\n",
       "      <td>292</td>\n",
       "    </tr>\n",
       "    <tr>\n",
       "      <th>4</th>\n",
       "      <td>HOU-91821</td>\n",
       "      <td>Air Freshener</td>\n",
       "      <td>Household</td>\n",
       "      <td>Brand C</td>\n",
       "      <td>13.54</td>\n",
       "      <td>293</td>\n",
       "    </tr>\n",
       "  </tbody>\n",
       "</table>\n",
       "</div>"
      ],
      "text/plain": [
       "         SKU   Product Name   Category    Brand  Price (USD)  Stock\n",
       "0  GRO-30685    Milk Powder    Grocery  Brand C        16.73    128\n",
       "1  HOU-53340  Air Freshener  Household  Brand D        13.52    460\n",
       "2  GRO-24767           Rice    Grocery  Brand B        19.87     81\n",
       "3  GRO-83921          Sugar    Grocery  Brand B         7.37    292\n",
       "4  HOU-91821  Air Freshener  Household  Brand C        13.54    293"
      ]
     },
     "execution_count": 4,
     "metadata": {},
     "output_type": "execute_result"
    }
   ],
   "source": [
    "# Print the first 5 rows of the dataframe\n",
    "df.head()"
   ]
  },
  {
   "cell_type": "code",
   "execution_count": 5,
   "metadata": {},
   "outputs": [],
   "source": [
    "# 1. Remove duplicate entries\n",
    "df.drop_duplicates(inplace=True)"
   ]
  },
  {
   "cell_type": "code",
   "execution_count": 7,
   "metadata": {},
   "outputs": [
    {
     "data": {
      "text/plain": [
       "(200, 6)"
      ]
     },
     "execution_count": 7,
     "metadata": {},
     "output_type": "execute_result"
    }
   ],
   "source": [
    "df.shape"
   ]
  },
  {
   "cell_type": "code",
   "execution_count": 8,
   "metadata": {},
   "outputs": [],
   "source": [
    "# 2. Standardize product names, categories\n",
    "df['Product Name'] = df['Product Name'].str.title().str.strip()\n",
    "df['Category'] = df['Category'].str.title().str.strip()"
   ]
  },
  {
   "cell_type": "code",
   "execution_count": 9,
   "metadata": {},
   "outputs": [
    {
     "data": {
      "text/html": [
       "<div>\n",
       "<style scoped>\n",
       "    .dataframe tbody tr th:only-of-type {\n",
       "        vertical-align: middle;\n",
       "    }\n",
       "\n",
       "    .dataframe tbody tr th {\n",
       "        vertical-align: top;\n",
       "    }\n",
       "\n",
       "    .dataframe thead th {\n",
       "        text-align: right;\n",
       "    }\n",
       "</style>\n",
       "<table border=\"1\" class=\"dataframe\">\n",
       "  <thead>\n",
       "    <tr style=\"text-align: right;\">\n",
       "      <th></th>\n",
       "      <th>SKU</th>\n",
       "      <th>Product Name</th>\n",
       "      <th>Category</th>\n",
       "      <th>Brand</th>\n",
       "      <th>Price (USD)</th>\n",
       "      <th>Stock</th>\n",
       "    </tr>\n",
       "  </thead>\n",
       "  <tbody>\n",
       "    <tr>\n",
       "      <th>0</th>\n",
       "      <td>GRO-30685</td>\n",
       "      <td>Milk Powder</td>\n",
       "      <td>Grocery</td>\n",
       "      <td>Brand C</td>\n",
       "      <td>16.73</td>\n",
       "      <td>128</td>\n",
       "    </tr>\n",
       "    <tr>\n",
       "      <th>1</th>\n",
       "      <td>HOU-53340</td>\n",
       "      <td>Air Freshener</td>\n",
       "      <td>Household</td>\n",
       "      <td>Brand D</td>\n",
       "      <td>13.52</td>\n",
       "      <td>460</td>\n",
       "    </tr>\n",
       "    <tr>\n",
       "      <th>2</th>\n",
       "      <td>GRO-24767</td>\n",
       "      <td>Rice</td>\n",
       "      <td>Grocery</td>\n",
       "      <td>Brand B</td>\n",
       "      <td>19.87</td>\n",
       "      <td>81</td>\n",
       "    </tr>\n",
       "    <tr>\n",
       "      <th>3</th>\n",
       "      <td>GRO-83921</td>\n",
       "      <td>Sugar</td>\n",
       "      <td>Grocery</td>\n",
       "      <td>Brand B</td>\n",
       "      <td>7.37</td>\n",
       "      <td>292</td>\n",
       "    </tr>\n",
       "    <tr>\n",
       "      <th>4</th>\n",
       "      <td>HOU-91821</td>\n",
       "      <td>Air Freshener</td>\n",
       "      <td>Household</td>\n",
       "      <td>Brand C</td>\n",
       "      <td>13.54</td>\n",
       "      <td>293</td>\n",
       "    </tr>\n",
       "  </tbody>\n",
       "</table>\n",
       "</div>"
      ],
      "text/plain": [
       "         SKU   Product Name   Category    Brand  Price (USD)  Stock\n",
       "0  GRO-30685    Milk Powder    Grocery  Brand C        16.73    128\n",
       "1  HOU-53340  Air Freshener  Household  Brand D        13.52    460\n",
       "2  GRO-24767           Rice    Grocery  Brand B        19.87     81\n",
       "3  GRO-83921          Sugar    Grocery  Brand B         7.37    292\n",
       "4  HOU-91821  Air Freshener  Household  Brand C        13.54    293"
      ]
     },
     "execution_count": 9,
     "metadata": {},
     "output_type": "execute_result"
    }
   ],
   "source": [
    "# Sanity check for the changes\n",
    "df.head()"
   ]
  },
  {
   "cell_type": "code",
   "execution_count": 10,
   "metadata": {},
   "outputs": [
    {
     "data": {
      "text/plain": [
       "SKU             0\n",
       "Product Name    0\n",
       "Category        0\n",
       "Brand           0\n",
       "Price (USD)     0\n",
       "Stock           0\n",
       "dtype: int64"
      ]
     },
     "execution_count": 10,
     "metadata": {},
     "output_type": "execute_result"
    }
   ],
   "source": [
    "# Check missing values\n",
    "df.isnull().sum()"
   ]
  },
  {
   "cell_type": "code",
   "execution_count": 11,
   "metadata": {},
   "outputs": [],
   "source": [
    "df.to_csv(file_path, index=False)"
   ]
  },
  {
   "cell_type": "markdown",
   "metadata": {},
   "source": [
    "### Product Catelog is already cleaned"
   ]
  }
 ],
 "metadata": {
  "kernelspec": {
   "display_name": "Python 3",
   "language": "python",
   "name": "python3"
  },
  "language_info": {
   "codemirror_mode": {
    "name": "ipython",
    "version": 3
   },
   "file_extension": ".py",
   "mimetype": "text/x-python",
   "name": "python",
   "nbconvert_exporter": "python",
   "pygments_lexer": "ipython3",
   "version": "3.13.0"
  }
 },
 "nbformat": 4,
 "nbformat_minor": 2
}
